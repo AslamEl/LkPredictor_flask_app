{
 "cells": [
  {
   "cell_type": "code",
   "execution_count": null,
   "id": "09902407-89ea-444b-a2b9-fb9910615891",
   "metadata": {},
   "outputs": [],
   "source": [
    "import pandas as pd\n",
    "import joblib\n",
    "import json\n",
    "from sklearn.model_selection import train_test_split\n",
    "from sklearn.preprocessing import StandardScaler\n",
    "from sklearn.ensemble import RandomForestClassifier\n",
    "from sklearn.metrics import classification_report\n",
    "from imblearn.over_sampling import SMOTE # <-- This is the new library\n",
    "\n",
    "print(\"Loading dataset...\")\n",
    "df = pd.read_csv('diabetes_012_health_indicators_BRFSS2015.csv')\n",
    "\n",
    "# All columns are already numbers, no get_dummies() needed!\n",
    "# 1. Define Features (X) and Target (y)\n",
    "X = df.drop('Diabetes_012', axis=1)\n",
    "y = df['Diabetes_012']"
   ]
  },
  {
   "cell_type": "code",
   "execution_count": 5,
   "id": "ac017dbf-d9ee-4e01-9331-cb6fbbb49e4b",
   "metadata": {},
   "outputs": [],
   "source": [
    "MODEL_COLUMNS = X.columns.tolist()\n",
    "with open('diabetes_model_columns.json', 'w') as f:\n",
    "    json.dump(MODEL_COLUMNS, f)"
   ]
  },
  {
   "cell_type": "code",
   "execution_count": 6,
   "id": "b0071363-9677-460f-93b1-6acef74edfe9",
   "metadata": {},
   "outputs": [],
   "source": [
    "# 2. Split data BEFORE balancing\n",
    "X_train, X_test, y_train, y_test = train_test_split(X, y, test_size=0.2, random_state=42)"
   ]
  },
  {
   "cell_type": "code",
   "execution_count": 7,
   "id": "e2af1c48-1408-4c08-9003-91145962f86f",
   "metadata": {},
   "outputs": [],
   "source": [
    "# 3. Scale the data (important for many models)\n",
    "# This standardizes all features to have a similar scale\n",
    "scaler = StandardScaler()\n",
    "X_train_scaled = scaler.fit_transform(X_train)\n",
    "X_test_scaled = scaler.transform(X_test)"
   ]
  },
  {
   "cell_type": "code",
   "execution_count": null,
   "id": "a1a27c18-4330-4a15-aa1e-cf509b08c7b0",
   "metadata": {
    "scrolled": true
   },
   "outputs": [],
   "source": [
    "# 4. --- Handle Class Imbalance with SMOTE ---\n",
    "print(f\"Balancing data with SMOTE...\")\n",
    "smote = SMOTE(random_state=42)\n",
    "# We ONLY fit SMOTE on the training data\n",
    "X_train_balanced, y_train_balanced = smote.fit_resample(X_train_scaled, y_train)"
   ]
  },
  {
   "cell_type": "code",
   "execution_count": null,
   "id": "7581a03d-f1d4-4379-af1a-18626bae92c2",
   "metadata": {},
   "outputs": [],
   "source": [
    "#5. Train the Classifier\n",
    "print(\"Training Random Forest Classifier...\")\n",
    "# Use RandomForestClassifier this time\n",
    "model = RandomForestClassifier(n_estimators=100, random_state=42, n_jobs=-1) \n",
    "model.fit(X_train_balanced, y_train_balanced)\n",
    "\n",
    "# 6. Evaluate the model\n",
    "print(\"Evaluating model...\")\n",
    "y_pred = model.predict(X_test_scaled)"
   ]
  },
  {
   "cell_type": "code",
   "execution_count": null,
   "id": "98e77d5b-7660-4505-aff4-97cc5ddba03e",
   "metadata": {},
   "outputs": [],
   "source": [
    "# A classification report is better than just \"accuracy\"\n",
    "# It shows precision/recall for each class (0, 1, and 2)\n",
    "print(classification_report(y_test, y_pred))"
   ]
  },
  {
   "cell_type": "code",
   "execution_count": null,
   "id": "902e9408-5174-4a53-85e2-bac1fda9c572",
   "metadata": {},
   "outputs": [],
   "source": []
  }
 ],
 "metadata": {
  "kernelspec": {
   "display_name": "Python 3 (ipykernel)",
   "language": "python",
   "name": "python3"
  },
  "language_info": {
   "codemirror_mode": {
    "name": "ipython",
    "version": 3
   },
   "file_extension": ".py",
   "mimetype": "text/x-python",
   "name": "python",
   "nbconvert_exporter": "python",
   "pygments_lexer": "ipython3",
   "version": "3.13.3"
  }
 },
 "nbformat": 4,
 "nbformat_minor": 5
}
