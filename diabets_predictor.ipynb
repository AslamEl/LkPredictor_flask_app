{
 "cells": [
  {
   "cell_type": "code",
   "execution_count": 1,
   "id": "09902407-89ea-444b-a2b9-fb9910615891",
   "metadata": {},
   "outputs": [
    {
     "name": "stdout",
     "output_type": "stream",
     "text": [
      "Loading dataset...\n"
     ]
    }
   ],
   "source": [
    "import pandas as pd\n",
    "import joblib\n",
    "import json\n",
    "from sklearn.model_selection import train_test_split\n",
    "from sklearn.preprocessing import StandardScaler\n",
    "from sklearn.ensemble import RandomForestClassifier\n",
    "from sklearn.metrics import classification_report\n",
    "from imblearn.over_sampling import SMOTE # <-- This is the new library\n",
    "\n",
    "print(\"Loading dataset...\")\n",
    "df = pd.read_csv('diabetes_012_health_indicators_BRFSS2015.csv')\n",
    "\n",
    "# All columns are already numbers, no get_dummies() needed!\n",
    "# 1. Define Features (X) and Target (y)\n",
    "X = df.drop('Diabetes_012', axis=1)\n",
    "y = df['Diabetes_012']"
   ]
  },
  {
   "cell_type": "code",
   "execution_count": 2,
   "id": "ac017dbf-d9ee-4e01-9331-cb6fbbb49e4b",
   "metadata": {},
   "outputs": [],
   "source": [
    "MODEL_COLUMNS = X.columns.tolist()\n",
    "with open('diabetes_model_columns.json', 'w') as f:\n",
    "    json.dump(MODEL_COLUMNS, f)"
   ]
  },
  {
   "cell_type": "code",
   "execution_count": 3,
   "id": "b0071363-9677-460f-93b1-6acef74edfe9",
   "metadata": {},
   "outputs": [],
   "source": [
    "# 2. Split data BEFORE balancing\n",
    "X_train, X_test, y_train, y_test = train_test_split(X, y, test_size=0.2, random_state=42)"
   ]
  },
  {
   "cell_type": "code",
   "execution_count": 4,
   "id": "e2af1c48-1408-4c08-9003-91145962f86f",
   "metadata": {},
   "outputs": [],
   "source": [
    "# 3. Scale the data (important for many models)\n",
    "# This standardizes all features to have a similar scale\n",
    "scaler = StandardScaler()\n",
    "X_train_scaled = scaler.fit_transform(X_train)\n",
    "X_test_scaled = scaler.transform(X_test)"
   ]
  },
  {
   "cell_type": "code",
   "execution_count": 5,
   "id": "a1a27c18-4330-4a15-aa1e-cf509b08c7b0",
   "metadata": {
    "scrolled": true
   },
   "outputs": [
    {
     "name": "stdout",
     "output_type": "stream",
     "text": [
      "Balancing data with SMOTE...\n"
     ]
    },
    {
     "name": "stderr",
     "output_type": "stream",
     "text": [
      "C:\\Users\\mhdro\\AppData\\Local\\Programs\\Python\\Python313\\Lib\\site-packages\\joblib\\externals\\loky\\backend\\context.py:136: UserWarning: Could not find the number of physical cores for the following reason:\n",
      "[WinError 2] The system cannot find the file specified\n",
      "Returning the number of logical cores instead. You can silence this warning by setting LOKY_MAX_CPU_COUNT to the number of cores you want to use.\n",
      "  warnings.warn(\n",
      "  File \"C:\\Users\\mhdro\\AppData\\Local\\Programs\\Python\\Python313\\Lib\\site-packages\\joblib\\externals\\loky\\backend\\context.py\", line 257, in _count_physical_cores\n",
      "    cpu_info = subprocess.run(\n",
      "        \"wmic CPU Get NumberOfCores /Format:csv\".split(),\n",
      "        capture_output=True,\n",
      "        text=True,\n",
      "    )\n",
      "  File \"C:\\Users\\mhdro\\AppData\\Local\\Programs\\Python\\Python313\\Lib\\subprocess.py\", line 554, in run\n",
      "    with Popen(*popenargs, **kwargs) as process:\n",
      "         ~~~~~^^^^^^^^^^^^^^^^^^^^^^\n",
      "  File \"C:\\Users\\mhdro\\AppData\\Local\\Programs\\Python\\Python313\\Lib\\subprocess.py\", line 1039, in __init__\n",
      "    self._execute_child(args, executable, preexec_fn, close_fds,\n",
      "    ~~~~~~~~~~~~~~~~~~~^^^^^^^^^^^^^^^^^^^^^^^^^^^^^^^^^^^^^^^^^\n",
      "                        pass_fds, cwd, env,\n",
      "                        ^^^^^^^^^^^^^^^^^^^\n",
      "    ...<5 lines>...\n",
      "                        gid, gids, uid, umask,\n",
      "                        ^^^^^^^^^^^^^^^^^^^^^^\n",
      "                        start_new_session, process_group)\n",
      "                        ^^^^^^^^^^^^^^^^^^^^^^^^^^^^^^^^^\n",
      "  File \"C:\\Users\\mhdro\\AppData\\Local\\Programs\\Python\\Python313\\Lib\\subprocess.py\", line 1551, in _execute_child\n",
      "    hp, ht, pid, tid = _winapi.CreateProcess(executable, args,\n",
      "                       ~~~~~~~~~~~~~~~~~~~~~^^^^^^^^^^^^^^^^^^\n",
      "                             # no special security\n",
      "                             ^^^^^^^^^^^^^^^^^^^^^\n",
      "    ...<4 lines>...\n",
      "                             cwd,\n",
      "                             ^^^^\n",
      "                             startupinfo)\n",
      "                             ^^^^^^^^^^^^\n"
     ]
    }
   ],
   "source": [
    "# 4. --- Handle Class Imbalance with SMOTE ---\n",
    "print(f\"Balancing data with SMOTE...\")\n",
    "smote = SMOTE(random_state=42)\n",
    "# We ONLY fit SMOTE on the training data\n",
    "X_train_balanced, y_train_balanced = smote.fit_resample(X_train_scaled, y_train)"
   ]
  },
  {
   "cell_type": "code",
   "execution_count": 6,
   "id": "7581a03d-f1d4-4379-af1a-18626bae92c2",
   "metadata": {},
   "outputs": [
    {
     "name": "stdout",
     "output_type": "stream",
     "text": [
      "Training Random Forest Classifier...\n",
      "Evaluating model...\n"
     ]
    }
   ],
   "source": [
    "#5. Train the Classifier\n",
    "print(\"Training Random Forest Classifier...\")\n",
    "# Use RandomForestClassifier this time\n",
    "model = RandomForestClassifier(n_estimators=100, random_state=42, n_jobs=-1) \n",
    "model.fit(X_train_balanced, y_train_balanced)\n",
    "\n",
    "# 6. Evaluate the model\n",
    "print(\"Evaluating model...\")\n",
    "y_pred = model.predict(X_test_scaled)"
   ]
  },
  {
   "cell_type": "code",
   "execution_count": 7,
   "id": "98e77d5b-7660-4505-aff4-97cc5ddba03e",
   "metadata": {},
   "outputs": [
    {
     "name": "stdout",
     "output_type": "stream",
     "text": [
      "              precision    recall  f1-score   support\n",
      "\n",
      "         0.0       0.88      0.93      0.90     42795\n",
      "         1.0       0.02      0.00      0.01       944\n",
      "         2.0       0.42      0.35      0.38      6997\n",
      "\n",
      "    accuracy                           0.83     50736\n",
      "   macro avg       0.44      0.43      0.43     50736\n",
      "weighted avg       0.80      0.83      0.81     50736\n",
      "\n"
     ]
    }
   ],
   "source": [
    "# A classification report is better than just \"accuracy\"\n",
    "# It shows precision/recall for each class (0, 1, and 2)\n",
    "print(classification_report(y_test, y_pred))"
   ]
  },
  {
   "cell_type": "code",
   "execution_count": null,
   "id": "902e9408-5174-4a53-85e2-bac1fda9c572",
   "metadata": {},
   "outputs": [],
   "source": []
  }
 ],
 "metadata": {
  "kernelspec": {
   "display_name": "Python 3 (ipykernel)",
   "language": "python",
   "name": "python3"
  },
  "language_info": {
   "codemirror_mode": {
    "name": "ipython",
    "version": 3
   },
   "file_extension": ".py",
   "mimetype": "text/x-python",
   "name": "python",
   "nbconvert_exporter": "python",
   "pygments_lexer": "ipython3",
   "version": "3.13.3"
  }
 },
 "nbformat": 4,
 "nbformat_minor": 5
}
