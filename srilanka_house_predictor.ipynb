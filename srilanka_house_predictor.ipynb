{
 "cells": [
  {
   "cell_type": "code",
   "execution_count": null,
   "id": "c72d93fc-11bc-4f74-ba32-b5869e75c4f7",
   "metadata": {},
   "outputs": [],
   "source": [
    "import pandas as pd\n",
    "\n",
    "# Load the new dataset\n",
    "df = pd.read_csv('house_prices_srilanka.csv')\n",
    "\n",
    "# See the first few rows\n",
    "print(df.head())\n",
    "\n",
    "# Check the data types and if any data is missing\n",
    "print(df.info())\n",
    "\n",
    "# See our location categories\n",
    "print(df['Location'].value_counts())"
   ]
  },
  {
   "cell_type": "code",
   "execution_count": null,
   "id": "3ad9d2ff-95d3-492e-91fa-4e6436449c65",
   "metadata": {},
   "outputs": [],
   "source": [
    "# 1. Define your features (X) and target (y)\n",
    "X_raw = df[['SquareFootage', 'Bedrooms', 'Location']]\n",
    "y = df['Price']\n",
    "\n",
    "# 2. This one simple command converts the 'Location' column\n",
    "X_processed = pd.get_dummies(X_raw, columns=['Location'])\n",
    "\n",
    "# 3. See the result!\n",
    "print(\"--- Data Before Encoding ---\")\n",
    "print(X_raw.head())\n",
    "\n",
    "print(\"\\n--- Data After One-Hot Encoding ---\")\n",
    "print(X_processed.head())"
   ]
  },
  {
   "cell_type": "code",
   "execution_count": null,
   "id": "b9bdf4f1-fb9c-4547-bbbc-a5512ebbfd7a",
   "metadata": {},
   "outputs": [],
   "source": [
    "from sklearn.model_selection import train_test_split\n",
    "from sklearn.ensemble import RandomForestRegressor\n",
    "from sklearn.metrics import r2_score\n",
    "\n",
    "# 1. Split data into training and testing sets\n",
    "X_train, X_test, y_train, y_test = train_test_split(X_processed, y, test_size=0.2, random_state=42)\n",
    "\n",
    "# 2. Create and train the model\n",
    "model = RandomForestRegressor(n_estimators=100, random_state=42)\n",
    "model.fit(X_train, y_train)\n",
    "\n",
    "# 3. Check how well it did on the test data\n",
    "y_pred = model.predict(X_test)\n",
    "r2 = r2_score(y_test, y_pred)\n",
    "print(f\"Model R-squared (R²): {r2:.3f}\") \n",
    "# You should get a very high score (e.g., 0.90+) since this is synthetic data"
   ]
  },
  {
   "cell_type": "code",
   "execution_count": null,
   "id": "bb49a304-a932-4705-ba6e-5223f279d012",
   "metadata": {},
   "outputs": [],
   "source": [
    "import joblib\n",
    "import json\n",
    "\n",
    "# 1. Save the trained model\n",
    "joblib.dump(model, 'sri_lanka_model.pkl')\n",
    "\n",
    "# 2. Get the final list of columns\n",
    "MODEL_COLUMNS = X_processed.columns.tolist()\n",
    "print(\"Model columns:\", MODEL_COLUMNS)\n",
    "\n",
    "# 3. Save that list to a file\n",
    "with open('model_columns.json', 'w') as f:\n",
    "    json.dump(MODEL_COLUMNS, f)\n",
    "\n",
    "print(\"Model and columns saved successfully!\")"
   ]
  },
  {
   "cell_type": "code",
   "execution_count": null,
   "id": "108a43c8-8bc3-46b4-b5b0-bdcaa0b95452",
   "metadata": {},
   "outputs": [],
   "source": []
  }
 ],
 "metadata": {
  "kernelspec": {
   "display_name": "Python 3 (ipykernel)",
   "language": "python",
   "name": "python3"
  },
  "language_info": {
   "codemirror_mode": {
    "name": "ipython",
    "version": 3
   },
   "file_extension": ".py",
   "mimetype": "text/x-python",
   "name": "python",
   "nbconvert_exporter": "python",
   "pygments_lexer": "ipython3",
   "version": "3.13.3"
  }
 },
 "nbformat": 4,
 "nbformat_minor": 5
}
